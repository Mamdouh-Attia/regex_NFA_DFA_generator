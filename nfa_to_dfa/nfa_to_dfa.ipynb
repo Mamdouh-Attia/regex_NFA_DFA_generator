{
 "cells": [
  {
   "cell_type": "code",
   "execution_count": 3,
   "metadata": {},
   "outputs": [],
   "source": [
    "import sys\n",
    "sys.path.append('../pkg')  # Add the parent directory of pkg to the Python path\n",
    "from classes import NFA, NFA_state, edge, SuperState, DFA"
   ]
  },
  {
   "cell_type": "code",
   "execution_count": 4,
   "metadata": {},
   "outputs": [],
   "source": [
    "def powerset_construction(nfa: NFA, alphabet: str) -> DFA:\n",
    "    dfa = DFA(nfa)\n",
    "    unmarked_states = set()\n",
    "    unmarked_states.add(dfa.start_super_state)\n",
    "\n",
    "    while unmarked_states:\n",
    "        current_super_state:SuperState = unmarked_states.pop()\n",
    "        for char in alphabet:\n",
    "            generated_super_state = current_super_state.generate_new_superstate(char)\n",
    "            if generated_super_state:\n",
    "                existing_super_state = dfa.get_super_state(generated_super_state)\n",
    "                if not existing_super_state:\n",
    "                    new_super_state = SuperState()\n",
    "                    new_super_state.sub_states = generated_super_state.sub_states\n",
    "                    new_super_state.label = \"S\" + str(len(dfa.super_states))\n",
    "                    dfa.super_states.add(new_super_state)\n",
    "                    unmarked_states.add(new_super_state)\n",
    "                    current_super_state.out_edges.append(edge(char, new_super_state)) \n",
    "                else:\n",
    "                    current_super_state.out_edges.append(edge(char, existing_super_state))\n",
    "\n",
    "    for super_state in dfa.super_states:\n",
    "        for sub_state in super_state.sub_states:\n",
    "            if sub_state == nfa.accept:\n",
    "                super_state.is_end = True\n",
    "                dfa.accept_super_states.add(super_state)\n",
    "\n",
    "    return dfa\n",
    "    "
   ]
  },
  {
   "cell_type": "code",
   "execution_count": null,
   "metadata": {},
   "outputs": [],
   "source": []
  }
 ],
 "metadata": {
  "kernelspec": {
   "display_name": "Python 3",
   "language": "python",
   "name": "python3"
  },
  "language_info": {
   "codemirror_mode": {
    "name": "ipython",
    "version": 3
   },
   "file_extension": ".py",
   "mimetype": "text/x-python",
   "name": "python",
   "nbconvert_exporter": "python",
   "pygments_lexer": "ipython3",
   "version": "3.10.12"
  }
 },
 "nbformat": 4,
 "nbformat_minor": 2
}
