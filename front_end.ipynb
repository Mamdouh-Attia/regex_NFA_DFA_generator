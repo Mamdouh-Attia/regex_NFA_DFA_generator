{
 "cells": [
  {
   "cell_type": "markdown",
   "metadata": {},
   "source": [
    "#    Compilers and Languages\n",
    "## Programming assignment : Part 1 : input regex -> NFA\n",
    "\n",
    "Table of Contents:\n",
    "1. [Introduction](#section1)\n",
    "\n"
   ]
  },
  {
   "cell_type": "code",
   "execution_count": null,
   "metadata": {},
   "outputs": [],
   "source": []
  },
  {
   "cell_type": "markdown",
   "metadata": {},
   "source": [
    "# The shunting yard algorithm (infix to postfix)\n",
    "\n",
    "### Introduction\n",
    "The shunting yard algorithm is a method for parsing mathematical expressions specified in infix notation. It can be used to produce output in Reverse Polish Notation (RPN) or as an abstract syntax tree (AST). The algorithm was invented by Edsger Dijkstra and named the \"shunting yard\" algorithm because its operation resembles that of a railroad shunting yard.\n",
    "\n",
    "We will use the shunting yard algorithm to convert the regular expression to postfix notation, which will be used to create the NFA.\n",
    "\n",
    "### Goal\n",
    "converting something like `(A+B) * (C | D)` to `A+B . * CD |.`\n",
    "\n",
    "### Features\n",
    ". No recursion or trees are needed.\n",
    ". No Ambiguities.\n",
    ". Handles precedence of operators.\n",
    "\n",
    "### Data Structures\n",
    "1. infix (input regex) : The regular expression in infix notation (string)\n",
    "   . Note : infix means the operator is between the operands. eg: `A+B` (The normal way we write expressions)\n",
    "2. postfix : The regular expression in postfix notation (string)\n",
    "    . Note : postfix means the operator is after the operands. eg: `AB+` (The way we write expressions in the shunting yard algorithm)\n",
    "3. stack : The stack used in the algorithm (list)\n",
    "\n",
    "### Algorithm\n",
    "1. Create an empty stack for operators. Create an empty list for the output.\n",
    "2. For each character in the infix :\n",
    "    - If char is `(` or `[` => push to stack\n",
    "    - If char is `)` or `]` => pop from stack until nearest matching `(` or `[` , append to output\n",
    "    - \n",
    "    - "
   ]
  },
  {
   "cell_type": "markdown",
   "metadata": {},
   "source": []
  },
  {
   "cell_type": "code",
   "execution_count": null,
   "metadata": {},
   "outputs": [],
   "source": [
    "# Important declarations\n",
    "# -----------------------\n",
    "regex_operators_precedence = {\n",
    "    '*' : 5,\n",
    "    '+' : 4,\n",
    "    '?' : 3,\n",
    "    '.' : 2,\n",
    "    '|' : 1,\n",
    "}\n",
    "\n"
   ]
  },
  {
   "cell_type": "code",
   "execution_count": null,
   "metadata": {},
   "outputs": [],
   "source": [
    "def infix_to_postfix(regex):\n",
    "    \"\"\"\n",
    "    Convert an infix regular expression to a postfix regular expression.\n",
    "\n",
    "    Parameters:\n",
    "    regex (str): The infix regular expression to convert to postfix.\n",
    "\n",
    "    Returns:\n",
    "    str: The postfix regular expression.\n",
    "    \"\"\"\n",
    "    # Create a stack to hold the operators\n",
    "    stack = []\n",
    "    # Create a list to hold the postfix regular expression\n",
    "    postfix = []\n",
    "    square_brackets_open = False\n",
    "    # Iterate over the characters in the infix regular expression\n",
    "    for char in regex:\n",
    "        #1. '(' or '[': Push it onto the stack\n",
    "        if char == '(' or char == '[':\n",
    "            stack.append(char)\n",
    "            square_brackets_open = True if char == '[' else False\n",
    "        #2. ')' or ']': Pop operators from the stack and append them to the postfix list until '(' or '[' is found\n",
    "        elif char == ')' or char == ']':\n"
   ]
  }
 ],
 "metadata": {
  "language_info": {
   "name": "python"
  }
 },
 "nbformat": 4,
 "nbformat_minor": 2
}
